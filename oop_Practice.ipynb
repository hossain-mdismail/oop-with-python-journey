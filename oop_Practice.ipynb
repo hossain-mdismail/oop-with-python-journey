{
  "nbformat": 4,
  "nbformat_minor": 0,
  "metadata": {
    "colab": {
      "provenance": [],
      "authorship_tag": "ABX9TyMPmQm3N6rD2mlPh61yPqHb",
      "include_colab_link": true
    },
    "kernelspec": {
      "name": "python3",
      "display_name": "Python 3"
    },
    "language_info": {
      "name": "python"
    }
  },
  "cells": [
    {
      "cell_type": "markdown",
      "metadata": {
        "id": "view-in-github",
        "colab_type": "text"
      },
      "source": [
        "<a href=\"https://colab.research.google.com/github/hossain-mdismail/oop-with-python-journey/blob/main/oop_Practice.ipynb\" target=\"_parent\"><img src=\"https://colab.research.google.com/assets/colab-badge.svg\" alt=\"Open In Colab\"/></a>"
      ]
    },
    {
      "cell_type": "code",
      "execution_count": null,
      "metadata": {
        "id": "g9DuJaShuJ5U"
      },
      "outputs": [],
      "source": []
    },
    {
      "cell_type": "markdown",
      "source": [
        "## Classes and Objects"
      ],
      "metadata": {
        "id": "Q2rIXdzpuaGB"
      }
    },
    {
      "cell_type": "markdown",
      "source": [],
      "metadata": {
        "id": "gXmvAvYJuXKQ"
      }
    },
    {
      "cell_type": "code",
      "source": [
        "# Example: A simple class with attributes and methods\n",
        "\n",
        "class Car:\n",
        "    # Constructor (__init__) to initialize an object\n",
        "    def __init__(self, brand, model, year):\n",
        "        self.brand = brand   # Attribute\n",
        "        self.model = model   # Attribute\n",
        "        self.year = year     # Attribute\n",
        "\n",
        "    # Method to display car information\n",
        "    def display_info(self):\n",
        "        print(f\"Car Info: {self.year} {self.brand} {self.model}\")\n",
        "\n",
        "# Creating objects\n",
        "car1 = Car(\"Toyota\", \"Corolla\", 2020)\n",
        "car2 = Car(\"Honda\", \"Civic\", 2019)\n",
        "\n",
        "# Accessing methods\n",
        "car1.display_info()  # Output: Car Info: 2020 Toyota Corolla\n",
        "car2.display_info()  # Output: Car Info: 2019 Honda Civic\n",
        "\n"
      ],
      "metadata": {
        "id": "oI5jEx12vM3w"
      },
      "execution_count": 1,
      "outputs": []
    },
    {
      "cell_type": "code",
      "source": [],
      "metadata": {
        "id": "8Fr8dxGpvXah"
      },
      "execution_count": null,
      "outputs": []
    }
  ]
}