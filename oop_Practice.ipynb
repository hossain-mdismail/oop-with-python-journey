{
  "nbformat": 4,
  "nbformat_minor": 0,
  "metadata": {
    "colab": {
      "provenance": [],
      "authorship_tag": "ABX9TyM3ID1eXKI76tem7ygjAnMe",
      "include_colab_link": true
    },
    "kernelspec": {
      "name": "python3",
      "display_name": "Python 3"
    },
    "language_info": {
      "name": "python"
    }
  },
  "cells": [
    {
      "cell_type": "markdown",
      "metadata": {
        "id": "view-in-github",
        "colab_type": "text"
      },
      "source": [
        "<a href=\"https://colab.research.google.com/github/hossain-mdismail/oop-with-python-journey/blob/main/oop_Practice.ipynb\" target=\"_parent\"><img src=\"https://colab.research.google.com/assets/colab-badge.svg\" alt=\"Open In Colab\"/></a>"
      ]
    },
    {
      "cell_type": "markdown",
      "source": [
        "## Classes and Objects\n",
        "\n",
        "* Class: A blueprint for creating objects. It defines attributes (data) and methods (functions).\n",
        "\n",
        "* Object: An instance of a class."
      ],
      "metadata": {
        "id": "Q2rIXdzpuaGB"
      }
    },
    {
      "cell_type": "code",
      "source": [
        "# Example: A simple class with attributes and methods\n",
        "\n",
        "class Car:\n",
        "    # Constructor (__init__) to initialize an object\n",
        "    def __init__(self, brand, model, year):\n",
        "        self.brand = brand   # Attribute\n",
        "        self.model = model   # Attribute\n",
        "        self.year = year     # Attribute\n",
        "\n",
        "    # Method to display car information\n",
        "    def display_info(self):\n",
        "        print(f\"Car Info: {self.year} {self.brand} {self.model}\")\n",
        "\n",
        "# Creating objects\n",
        "car1 = Car(\"Toyota\", \"Corolla\", 2020)\n",
        "car2 = Car(\"Honda\", \"Civic\", 2019)\n",
        "\n",
        "# Accessing methods\n",
        "car1.display_info()  # Output: Car Info: 2020 Toyota Corolla\n",
        "car2.display_info()  # Output: Car Info: 2019 Honda Civic\n",
        "\n"
      ],
      "metadata": {
        "id": "oI5jEx12vM3w",
        "colab": {
          "base_uri": "https://localhost:8080/"
        },
        "outputId": "f8578d7c-1be0-403b-a0cd-908568b9b703"
      },
      "execution_count": 1,
      "outputs": [
        {
          "output_type": "stream",
          "name": "stdout",
          "text": [
            "Car Info: 2020 Toyota Corolla\n",
            "Car Info: 2019 Honda Civic\n"
          ]
        }
      ]
    },
    {
      "cell_type": "markdown",
      "source": [
        "## Constructors and __repr__\n",
        "\n",
        "*   Constructor (__init__): This special method is called when a new object is\n",
        "created. It’s used to initialize the object’s state (attributes).\n",
        "\n",
        "* __repr__: A special method that defines how an object is represented as a string.\n",
        "\n"
      ],
      "metadata": {
        "id": "i6VOUgKDmDG4"
      }
    },
    {
      "cell_type": "code",
      "source": [
        "class Book:\n",
        "    def __init__(self, title, author):\n",
        "        self.title = title\n",
        "        self.author = author\n",
        "\n",
        "    def __repr__(self):\n",
        "        return f\"Book(title={self.title}, author={self.author})\"\n",
        "\n",
        "book1 = Book(\"1984\", \"George Orwell\")\n",
        "print(book1)  # Output: Book(title=1984, author=George Orwell)\n"
      ],
      "metadata": {
        "id": "8Fr8dxGpvXah",
        "colab": {
          "base_uri": "https://localhost:8080/"
        },
        "outputId": "66ebe09c-d633-42f1-ef7c-3f4c8b72de79"
      },
      "execution_count": 2,
      "outputs": [
        {
          "output_type": "stream",
          "name": "stdout",
          "text": [
            "Book(title=1984, author=George Orwell)\n"
          ]
        }
      ]
    },
    {
      "cell_type": "markdown",
      "source": [
        "## Another example: Student Class with Constructor"
      ],
      "metadata": {
        "id": "8WDKLkzXI8vZ"
      }
    },
    {
      "cell_type": "code",
      "source": [
        "class Student:\n",
        "    # Constructor\n",
        "    def __init__(self, name, age, grade):\n",
        "        self.name = name    # Attribute: student name\n",
        "        self.age = age      # Attribute: student age\n",
        "        self.grade = grade  # Attribute: student grade\n",
        "\n",
        "    # Method to display student information\n",
        "    def display_info(self):\n",
        "        print(f\"Student: {self.name}, Age: {self.age}, Grade: {self.grade}\")\n",
        "\n",
        "    # Method to check if the student passed\n",
        "    def has_passed(self):\n",
        "        if self.grade >= 50:\n",
        "            print(f\"{self.name} has passed!\")\n",
        "        else:\n",
        "            print(f\"{self.name} has failed!\")\n",
        "\n",
        "# Creating objects (instances)\n",
        "student1 = Student(\"Alice\", 16, 75)\n",
        "student2 = Student(\"Bob\", 17, 45)\n",
        "\n",
        "# Accessing methods\n",
        "student1.display_info()  # Output: Student: Alice, Age: 16, Grade: 75\n",
        "student1.has_passed()    # Output: Alice has passed!\n",
        "\n",
        "student2.display_info()  # Output: Student: Bob, Age: 17, Grade: 45\n",
        "student2.has_passed()    # Output: Bob has failed!\n"
      ],
      "metadata": {
        "colab": {
          "base_uri": "https://localhost:8080/"
        },
        "id": "gxT_q3bvqt0d",
        "outputId": "8aadfc8b-8426-4709-9d65-d47bd3534bd3"
      },
      "execution_count": 3,
      "outputs": [
        {
          "output_type": "stream",
          "name": "stdout",
          "text": [
            "Student: Alice, Age: 16, Grade: 75\n",
            "Alice has passed!\n",
            "Student: Bob, Age: 17, Grade: 45\n",
            "Bob has failed!\n"
          ]
        }
      ]
    },
    {
      "cell_type": "markdown",
      "source": [
        "## Explanation:\n",
        "\n",
        "\n",
        "1. __init__ Constructor:\n",
        "This special method runs automatically when you create an object. It initializes the object’s attributes (name, age, grade).\n",
        "2.  Attributes:\n",
        "These are variables that belong to the object (self.name, self.age, self.grade).\n",
        "3. Methods:\n",
        "Functions inside the class (display_info, has_passed) that can use the object’s attributes.\n",
        "\n",
        "\n"
      ],
      "metadata": {
        "id": "8lx37-nvKFHY"
      }
    },
    {
      "cell_type": "markdown",
      "source": [
        "## Advanced Constructor Example: Student Class with Defaults & Optional Parameters"
      ],
      "metadata": {
        "id": "gGzPycQTLIYr"
      }
    },
    {
      "cell_type": "code",
      "source": [
        "class Student:\n",
        "    def __init__(self, name, age=18, grade=0, subjects=None):\n",
        "        \"\"\"\n",
        "        Constructor with default values and optional parameters.\n",
        "\n",
        "        Parameters:\n",
        "        - name (str): Student's name (required)\n",
        "        - age (int): Student's age (default 18)\n",
        "        - grade (float): Student's grade (default 0)\n",
        "        - subjects (list): List of subjects (default empty list)\n",
        "        \"\"\"\n",
        "        self.name = name\n",
        "        self.age = age\n",
        "        self.grade = grade\n",
        "        # If no subjects provided, initialize with empty list\n",
        "        self.subjects = subjects if subjects is not None else []\n",
        "\n",
        "    def display_info(self):\n",
        "        print(f\"Student: {self.name}, Age: {self.age}, Grade: {self.grade}\")\n",
        "        print(f\"Subjects: {', '.join(self.subjects) if self.subjects else 'None'}\")\n",
        "\n",
        "    def add_subject(self, subject):\n",
        "        self.subjects.append(subject)\n",
        "        print(f\"{subject} added to {self.name}'s subjects.\")\n",
        "\n",
        "    def has_passed(self):\n",
        "        if self.grade >= 50:\n",
        "            print(f\"{self.name} has passed!\")\n",
        "        else:\n",
        "            print(f\"{self.name} has failed!\")\n"
      ],
      "metadata": {
        "id": "TWIgLF6kJMyJ"
      },
      "execution_count": 4,
      "outputs": []
    },
    {
      "cell_type": "code",
      "source": [
        "# Creating objects with different levels of details\n",
        "student1 = Student(\"Alice\", 16, 75, [\"Math\", \"English\"])\n",
        "student2 = Student(\"Bob\")  # age=18, grade=0, subjects=[]\n",
        "student3 = Student(\"Charlie\", subjects=[\"Physics\"])  # age=18, grade=0"
      ],
      "metadata": {
        "id": "aBDg923Zwdvq"
      },
      "execution_count": 5,
      "outputs": []
    },
    {
      "cell_type": "code",
      "source": [
        "def __repr__(self):\n",
        "    return f\"Student(name={self.name!r}, age={self.age}, grade={self.grade})\"\n",
        "\n",
        "def __str__(self):\n",
        "    return f\"{self.name}, Age: {self.age}, Grade: {self.grade}\"\n"
      ],
      "metadata": {
        "id": "-Y55O94Gwey9"
      },
      "execution_count": 6,
      "outputs": []
    },
    {
      "cell_type": "code",
      "source": [],
      "metadata": {
        "id": "FkTF04yjdgis"
      },
      "execution_count": null,
      "outputs": []
    }
  ]
}