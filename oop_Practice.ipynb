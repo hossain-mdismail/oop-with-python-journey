{
  "nbformat": 4,
  "nbformat_minor": 0,
  "metadata": {
    "colab": {
      "provenance": [],
      "authorship_tag": "ABX9TyMI13U5R/UdB1BQlknliBjo",
      "include_colab_link": true
    },
    "kernelspec": {
      "name": "python3",
      "display_name": "Python 3"
    },
    "language_info": {
      "name": "python"
    }
  },
  "cells": [
    {
      "cell_type": "markdown",
      "metadata": {
        "id": "view-in-github",
        "colab_type": "text"
      },
      "source": [
        "<a href=\"https://colab.research.google.com/github/hossain-mdismail/oop-with-python-journey/blob/main/oop_Practice.ipynb\" target=\"_parent\"><img src=\"https://colab.research.google.com/assets/colab-badge.svg\" alt=\"Open In Colab\"/></a>"
      ]
    },
    {
      "cell_type": "markdown",
      "source": [
        "## Classes and Objects\n",
        "\n",
        "* Class: A blueprint for creating objects. It defines attributes (data) and methods (functions).\n",
        "\n",
        "* Object: An instance of a class."
      ],
      "metadata": {
        "id": "Q2rIXdzpuaGB"
      }
    },
    {
      "cell_type": "code",
      "source": [
        "# Example: A simple class with attributes and methods\n",
        "\n",
        "class Car:\n",
        "    # Constructor (__init__) to initialize an object\n",
        "    def __init__(self, brand, model, year):\n",
        "        self.brand = brand   # Attribute\n",
        "        self.model = model   # Attribute\n",
        "        self.year = year     # Attribute\n",
        "\n",
        "    # Method to display car information\n",
        "    def display_info(self):\n",
        "        print(f\"Car Info: {self.year} {self.brand} {self.model}\")\n",
        "\n",
        "# Creating objects\n",
        "car1 = Car(\"Toyota\", \"Corolla\", 2020)\n",
        "car2 = Car(\"Honda\", \"Civic\", 2019)\n",
        "\n",
        "# Accessing methods\n",
        "car1.display_info()  # Output: Car Info: 2020 Toyota Corolla\n",
        "car2.display_info()  # Output: Car Info: 2019 Honda Civic\n",
        "\n"
      ],
      "metadata": {
        "id": "oI5jEx12vM3w",
        "colab": {
          "base_uri": "https://localhost:8080/"
        },
        "outputId": "ab4365eb-ac5e-40df-ea47-28715d88ed6d"
      },
      "execution_count": 1,
      "outputs": [
        {
          "output_type": "stream",
          "name": "stdout",
          "text": [
            "Car Info: 2020 Toyota Corolla\n",
            "Car Info: 2019 Honda Civic\n"
          ]
        }
      ]
    },
    {
      "cell_type": "markdown",
      "source": [
        "## Constructors and __repr__\n",
        "\n",
        "*   Constructor (__init__): This special method is called when a new object is\n",
        "created. It’s used to initialize the object’s state (attributes).\n",
        "\n",
        "* __repr__: A special method that defines how an object is represented as a string.\n",
        "\n"
      ],
      "metadata": {
        "id": "i6VOUgKDmDG4"
      }
    },
    {
      "cell_type": "code",
      "source": [
        "class Book:\n",
        "    def __init__(self, title, author):\n",
        "        self.title = title\n",
        "        self.author = author\n",
        "\n",
        "    def __repr__(self):\n",
        "        return f\"Book(title={self.title}, author={self.author})\"\n",
        "\n",
        "book1 = Book(\"1984\", \"George Orwell\")\n",
        "print(book1)  # Output: Book(title=1984, author=George Orwell)\n"
      ],
      "metadata": {
        "id": "8Fr8dxGpvXah",
        "colab": {
          "base_uri": "https://localhost:8080/"
        },
        "outputId": "dda88e4f-7690-4a68-8626-211dd2b4a53d"
      },
      "execution_count": 2,
      "outputs": [
        {
          "output_type": "stream",
          "name": "stdout",
          "text": [
            "Book(title=1984, author=George Orwell)\n"
          ]
        }
      ]
    },
    {
      "cell_type": "markdown",
      "source": [
        "## Another example: Student Class with Constructor"
      ],
      "metadata": {
        "id": "8WDKLkzXI8vZ"
      }
    },
    {
      "cell_type": "code",
      "source": [
        "class Student:\n",
        "    # Constructor\n",
        "    def __init__(self, name, age, grade):\n",
        "        self.name = name    # Attribute: student name\n",
        "        self.age = age      # Attribute: student age\n",
        "        self.grade = grade  # Attribute: student grade\n",
        "\n",
        "    # Method to display student information\n",
        "    def display_info(self):\n",
        "        print(f\"Student: {self.name}, Age: {self.age}, Grade: {self.grade}\")\n",
        "\n",
        "    # Method to check if the student passed\n",
        "    def has_passed(self):\n",
        "        if self.grade >= 50:\n",
        "            print(f\"{self.name} has passed!\")\n",
        "        else:\n",
        "            print(f\"{self.name} has failed!\")\n",
        "\n",
        "# Creating objects (instances)\n",
        "student1 = Student(\"Alice\", 16, 75)\n",
        "student2 = Student(\"Bob\", 17, 45)\n",
        "\n",
        "# Accessing methods\n",
        "student1.display_info()  # Output: Student: Alice, Age: 16, Grade: 75\n",
        "student1.has_passed()    # Output: Alice has passed!\n",
        "\n",
        "student2.display_info()  # Output: Student: Bob, Age: 17, Grade: 45\n",
        "student2.has_passed()    # Output: Bob has failed!\n"
      ],
      "metadata": {
        "colab": {
          "base_uri": "https://localhost:8080/"
        },
        "id": "gxT_q3bvqt0d",
        "outputId": "09a15df0-00da-47a8-9166-a0f91c2b8580"
      },
      "execution_count": 3,
      "outputs": [
        {
          "output_type": "stream",
          "name": "stdout",
          "text": [
            "Student: Alice, Age: 16, Grade: 75\n",
            "Alice has passed!\n",
            "Student: Bob, Age: 17, Grade: 45\n",
            "Bob has failed!\n"
          ]
        }
      ]
    },
    {
      "cell_type": "markdown",
      "source": [
        "## Explanation:\n",
        "\n",
        "\n",
        "1. __init__ Constructor:\n",
        "This special method runs automatically when you create an object. It initializes the object’s attributes (name, age, grade).\n",
        "2.  Attributes:\n",
        "These are variables that belong to the object (self.name, self.age, self.grade).\n",
        "3. Methods:\n",
        "Functions inside the class (display_info, has_passed) that can use the object’s attributes.\n",
        "\n",
        "\n"
      ],
      "metadata": {
        "id": "8lx37-nvKFHY"
      }
    },
    {
      "cell_type": "markdown",
      "source": [
        "## Advanced Constructor Example: Student Class with Defaults & Optional Parameters"
      ],
      "metadata": {
        "id": "gGzPycQTLIYr"
      }
    },
    {
      "cell_type": "code",
      "source": [
        "class Student:\n",
        "    def __init__(self, name, age=18, grade=0, subjects=None):\n",
        "        \"\"\"\n",
        "        Constructor with default values and optional parameters.\n",
        "\n",
        "        Parameters:\n",
        "        - name (str): Student's name (required)\n",
        "        - age (int): Student's age (default 18)\n",
        "        - grade (float): Student's grade (default 0)\n",
        "        - subjects (list): List of subjects (default empty list)\n",
        "        \"\"\"\n",
        "        self.name = name\n",
        "        self.age = age\n",
        "        self.grade = grade\n",
        "        # If no subjects provided, initialize with empty list\n",
        "        self.subjects = subjects if subjects is not None else []\n",
        "\n",
        "    def display_info(self):\n",
        "        print(f\"Student: {self.name}, Age: {self.age}, Grade: {self.grade}\")\n",
        "        print(f\"Subjects: {', '.join(self.subjects) if self.subjects else 'None'}\")\n",
        "\n",
        "    def add_subject(self, subject):\n",
        "        self.subjects.append(subject)\n",
        "        print(f\"{subject} added to {self.name}'s subjects.\")\n",
        "\n",
        "    def has_passed(self):\n",
        "        if self.grade >= 50:\n",
        "            print(f\"{self.name} has passed!\")\n",
        "        else:\n",
        "            print(f\"{self.name} has failed!\")\n"
      ],
      "metadata": {
        "id": "TWIgLF6kJMyJ"
      },
      "execution_count": 4,
      "outputs": []
    },
    {
      "cell_type": "code",
      "source": [
        "# Creating objects with different levels of details\n",
        "student1 = Student(\"Alice\", 16, 75, [\"Math\", \"English\"])\n",
        "student2 = Student(\"Bob\")  # age=18, grade=0, subjects=[]\n",
        "student3 = Student(\"Charlie\", subjects=[\"Physics\"])  # age=18, grade=0"
      ],
      "metadata": {
        "id": "aBDg923Zwdvq"
      },
      "execution_count": 5,
      "outputs": []
    },
    {
      "cell_type": "code",
      "source": [
        "def __repr__(self):\n",
        "    return f\"Student(name={self.name!r}, age={self.age}, grade={self.grade})\"\n",
        "\n",
        "def __str__(self):\n",
        "    return f\"{self.name}, Age: {self.age}, Grade: {self.grade}\"\n"
      ],
      "metadata": {
        "id": "-Y55O94Gwey9"
      },
      "execution_count": 6,
      "outputs": []
    },
    {
      "cell_type": "markdown",
      "source": [
        "1. __repr__ (Developer-Friendly Representation):\n",
        "\n",
        "\n",
        "*   Purpose: To give an unambiguous representation of the object.\n",
        "*   Usually meant for developers, debugging, or logging.\n",
        "*  Ideally, __repr__ output should look like valid Python code that could recreate the object (if possible).\n",
        "\n",
        "\n",
        "\n"
      ],
      "metadata": {
        "id": "XJe1OQncfi_2"
      }
    },
    {
      "cell_type": "code",
      "source": [
        "class Student:\n",
        "    def __init__(self, name, age=18, grade=0):\n",
        "        self.name = name\n",
        "        self.age = age\n",
        "        self.grade = grade\n",
        "\n",
        "    def __repr__(self):\n",
        "        return f\"Student(name={self.name!r}, age={self.age}, grade={self.grade})\"\n",
        "\n",
        "student = Student(\"Alice\", 16, 75)\n",
        "print(repr(student))  # Output: Student(name='Alice', age=16, grade=75)\n"
      ],
      "metadata": {
        "colab": {
          "base_uri": "https://localhost:8080/"
        },
        "id": "FkTF04yjdgis",
        "outputId": "69b39565-58fb-4339-82cc-da464df3fc25"
      },
      "execution_count": 7,
      "outputs": [
        {
          "output_type": "stream",
          "name": "stdout",
          "text": [
            "Student(name='Alice', age=16, grade=75)\n"
          ]
        }
      ]
    },
    {
      "cell_type": "markdown",
      "source": [
        "2. __str__ (User-Friendly Representation)\n",
        "\n",
        "\n",
        "*   Purpose: To give a readable, friendly representation of the object.\n",
        "*   Meant for end users, not necessarily developers.\n",
        "*   Called when you do print(object) or str(object).\n",
        "\n"
      ],
      "metadata": {
        "id": "UAsfTkCmkLD_"
      }
    },
    {
      "cell_type": "code",
      "source": [
        "class Student:\n",
        "    def __init__(self, name, age=18, grade=0):\n",
        "        self.name = name\n",
        "        self.age = age\n",
        "        self.grade = grade\n",
        "\n",
        "    def __str__(self):\n",
        "        return f\"{self.name}, Age: {self.age}, Grade: {self.grade}\"\n",
        "\n",
        "student = Student(\"Alice\", 16, 75)\n",
        "print(student)  # Output: Alice, Age: 16, Grade: 75\n"
      ],
      "metadata": {
        "colab": {
          "base_uri": "https://localhost:8080/"
        },
        "id": "KT8c-zfXgNxs",
        "outputId": "8b1f7190-c40b-49d1-cba5-8885520788fa"
      },
      "execution_count": 8,
      "outputs": [
        {
          "output_type": "stream",
          "name": "stdout",
          "text": [
            "Alice, Age: 16, Grade: 75\n"
          ]
        }
      ]
    },
    {
      "cell_type": "markdown",
      "source": [
        "3. Example with Both __repr__ and __str__"
      ],
      "metadata": {
        "id": "4L60kld_lACM"
      }
    },
    {
      "cell_type": "code",
      "source": [
        "class Student:\n",
        "    def __init__(self, name, age=18, grade=0):\n",
        "        self.name = name\n",
        "        self.age = age\n",
        "        self.grade = grade\n",
        "\n",
        "    def __repr__(self):\n",
        "        return f\"Student(name={self.name!r}, age={self.age}, grade={self.grade})\"\n",
        "\n",
        "    def __str__(self):\n",
        "        return f\"{self.name}, Age: {self.age}, Grade: {self.grade}\"\n",
        "\n",
        "student = Student(\"Alice\", 16, 75)\n",
        "\n",
        "print(student)       # Calls __str__ → Output: Alice, Age: 16, Grade: 75\n",
        "print(repr(student)) # Calls __repr__ → Output: Student(name='Alice', age=16, grade=75)\n",
        "student                # In an interactive shell → Calls __repr__ by default\n"
      ],
      "metadata": {
        "colab": {
          "base_uri": "https://localhost:8080/"
        },
        "id": "Pk9pGaWCjK3Y",
        "outputId": "dfb1cec5-deba-451a-9d28-499dab7f8ed3"
      },
      "execution_count": 11,
      "outputs": [
        {
          "output_type": "stream",
          "name": "stdout",
          "text": [
            "Alice, Age: 16, Grade: 75\n",
            "Student(name='Alice', age=16, grade=75)\n"
          ]
        },
        {
          "output_type": "execute_result",
          "data": {
            "text/plain": [
              "Student(name='Alice', age=16, grade=75)"
            ]
          },
          "metadata": {},
          "execution_count": 11
        }
      ]
    },
    {
      "cell_type": "markdown",
      "source": [
        "**3. Encapsulation**\n",
        "\n",
        "Encapsulation is an Object-Oriented Programming principle that hides the internal state of an object and restricts direct access to its attributes. It helps protect the object’s data from accidental modification and ensures that changes happen only through well-defined methods."
      ],
      "metadata": {
        "id": "JS3keXGx9HKJ"
      }
    },
    {
      "cell_type": "markdown",
      "source": [
        "**1. How Encapsulation Works in Python**\n",
        "Python does not have strict private variables like some languages (e.g., Java or C++). Instead, it uses naming conventions:\n",
        "* Public attributes: Can be accessed freely.\n",
        "* Protected attributes: Use a single underscore _ → meant for internal use, but not strictly enforced.\n",
        "* Private attributes: Use double underscore __ → triggers name mangling to make direct access harder."
      ],
      "metadata": {
        "id": "jTW8_BtF9pjT"
      }
    },
    {
      "cell_type": "markdown",
      "source": [
        "**2. Example: Encapsulation with Student Class**"
      ],
      "metadata": {
        "id": "NbTVbagoAxy5"
      }
    },
    {
      "cell_type": "code",
      "source": [
        "class Student:\n",
        "    def __init__(self, name, grade):\n",
        "        self.name = name   # public attribute\n",
        "        self.__grade = grade  # private attribute\n",
        "\n",
        "    # Getter method\n",
        "    def get_grade(self):\n",
        "        return self.__grade\n",
        "\n",
        "    # Setter method\n",
        "    def set_grade(self, grade):\n",
        "        if 0 <= grade <= 100:\n",
        "            self.__grade = grade\n",
        "        else:\n",
        "            print(\"Invalid grade\")\n",
        "\n",
        "# Creating object\n",
        "student = Student(\"Alice\", 85)\n",
        "\n",
        "# Accessing public attribute\n",
        "print(student.name)\n",
        "\n",
        "# Accessing private attribute directly (not recommended)\n",
        "# print(student.__grade)  # AttributeError\n",
        "\n",
        "# Using getter and setter\n",
        "print(student.get_grade())\n",
        "student.set_grade(95)\n",
        "print(student.get_grade())\n",
        "\n",
        "# Attempting invalid update\n",
        "\n",
        "\n",
        "student.set_grade(90)\n",
        "print(student.get_grade())"
      ],
      "metadata": {
        "colab": {
          "base_uri": "https://localhost:8080/"
        },
        "id": "M1D7DM5RjsZe",
        "outputId": "c5145641-104a-4f66-da41-0ac0237c2a95"
      },
      "execution_count": 29,
      "outputs": [
        {
          "output_type": "stream",
          "name": "stdout",
          "text": [
            "Alice\n",
            "85\n",
            "95\n",
            "90\n"
          ]
        }
      ]
    },
    {
      "cell_type": "markdown",
      "source": [
        "3. Why Encapsulation is Important\n",
        "* Protects data: Prevents accidental or invalid modifications.\n",
        "* Controls access: You can define rules in setter/getter methods.\n",
        "* Improves maintainability: Internal implementation can change without affecting external code.\n",
        "* Improves maintainability: Internal implementation can change without affecting external code.\n",
        "* Encourages clean code: Separates how data is stored from how it’s accessed or modified."
      ],
      "metadata": {
        "id": "gJM6WTZRZCXw"
      }
    },
    {
      "cell_type": "markdown",
      "source": [
        "Even though Python allows access to “private” variables using _ClassName__attribute, it’s considered bad practice. Always use getters and setters to interact with encapsulated data."
      ],
      "metadata": {
        "id": "2ko5JXbYc4LS"
      }
    },
    {
      "cell_type": "markdown",
      "source": [
        "I can also update my Student class with proper encapsulation and show how __repr__ and __str__ would work together with private attributes."
      ],
      "metadata": {
        "id": "5A4CzFcjdDIC"
      }
    },
    {
      "cell_type": "code",
      "source": [
        "class Student:\n",
        "    def __init__(self, name, age=18, grade=0, subjects=None):\n",
        "        self.name = name             # Public attribute\n",
        "        self.age = age               # Public attribute\n",
        "        self.__grade = grade         # Private attribute\n",
        "        self.subjects = subjects if subjects is not None else []\n",
        "\n",
        "    # Getter for private attribute\n",
        "    def get_grade(self):\n",
        "        return self.__grade\n",
        "\n",
        "    # Setter for private attribute with validation\n",
        "    def set_grade(self, grade):\n",
        "        if 0 <= grade <= 100:\n",
        "            self.__grade = grade\n",
        "        else:\n",
        "            print(\"Invalid grade. Must be between 0 and 100.\")\n",
        "\n",
        "    # Add subject method\n",
        "    def add_subject(self, subject):\n",
        "        self.subjects.append(subject)\n",
        "        print(f\"{subject} added to {self.name}'s subjects.\")\n",
        "\n",
        "    # Display student info\n",
        "    def display_info(self):\n",
        "        print(f\"Student: {self.name}, Age: {self.age}, Grade: {self.__grade}\")\n",
        "        print(f\"Subjects: {', '.join(self.subjects) if self.subjects else 'None'}\")\n",
        "\n",
        "    # Special method for developer-friendly representation\n",
        "    def __repr__(self):\n",
        "        return f\"Student(name={self.name!r}, age={self.age}, grade={self.__grade})\"\n",
        "\n",
        "    # Special method for user-friendly string\n",
        "    def __str__(self):\n",
        "        return f\"{self.name}, Age: {self.age}, Grade: {self.__grade}\"\n",
        "\n",
        "# --- Example Usage ---\n",
        "\n",
        "student1 = Student(\"Alice\", 16, 85, [\"Math\", \"English\"])\n",
        "student2 = Student(\"Bob\")\n",
        "\n",
        "# Accessing public attributes\n",
        "print(student1.name)  # Output: Alice\n",
        "\n",
        "# Accessing private attribute through getter\n",
        "print(student1.get_grade())  # Output: 85\n",
        "\n",
        "# Updating private attribute through setter\n",
        "student2.set_grade(95)\n",
        "print(student2.get_grade())  # Output: 95\n",
        "\n",
        "# Invalid grade\n",
        "student2.set_grade(150)      # Output: Invalid grade. Must be between 0 and 100.\n",
        "\n",
        "# Adding subjects\n",
        "student2.add_subject(\"History\")\n",
        "student2.display_info()\n",
        "\n",
        "# Printing objects\n",
        "print(student1)   # Calls __str__ → Alice, Age: 16, Grade: 85\n",
        "print(repr(student2))  # Calls __repr__ → Student(name='Bob', age=18, grade=95)\n",
        "\n",
        "\n"
      ],
      "metadata": {
        "colab": {
          "base_uri": "https://localhost:8080/"
        },
        "id": "HSrKfY2bdBxi",
        "outputId": "f32893e2-509f-407c-ce21-9ed0747bfc5c"
      },
      "execution_count": 4,
      "outputs": [
        {
          "output_type": "stream",
          "name": "stdout",
          "text": [
            "Alice\n",
            "85\n",
            "95\n",
            "Invalid grade. Must be between 0 and 100.\n",
            "History added to Bob's subjects.\n",
            "Student: Bob, Age: 18, Grade: 95\n",
            "Subjects: History\n",
            "Alice, Age: 16, Grade: 85\n",
            "Student(name='Bob', age=18, grade=95)\n"
          ]
        }
      ]
    },
    {
      "cell_type": "markdown",
      "source": [
        "**Inheritance in Python**\n",
        "Definition:\n",
        "Inheritance is an OOP principle where a class (child/subclass) inherits attributes and methods from another class (parent/superclass). This allows code reuse, makes programs more organized, and helps create specialized versions of a class."
      ],
      "metadata": {
        "id": "Y9IXaUzhaUZi"
      }
    },
    {
      "cell_type": "code",
      "source": [
        "class ParentClass:\n",
        "    # parent attributes and methods\n",
        "    pass\n",
        "\n",
        "class ChildClass(ParentClass):\n",
        "    # child can add or override attributes and methods\n",
        "    pass"
      ],
      "metadata": {
        "id": "xpQabyvDd_8m"
      },
      "execution_count": 5,
      "outputs": []
    },
    {
      "cell_type": "markdown",
      "source": [
        "2. Example: Student and GraduateStudent"
      ],
      "metadata": {
        "id": "6bztK4Wgc4m2"
      }
    },
    {
      "cell_type": "code",
      "source": [
        "# Parent class\n",
        "class Student:\n",
        "    def __init__(self, name, age=18, grade=0):\n",
        "        self.name = name\n",
        "        self.age = age\n",
        "        self.__grade = grade\n",
        "\n",
        "    def get_grade(self):\n",
        "        return self.__grade\n",
        "\n",
        "    def set_grade(self, grade):\n",
        "        if 0 <= grade <= 100:\n",
        "            self.__grade = grade\n",
        "        else:\n",
        "            print(\"Invalid grade\")\n",
        "\n",
        "    def display_info(self):\n",
        "        print(f\"Student: {self.name}, Age: {self.age}, Grade: {self.__grade}\")\n"
      ],
      "metadata": {
        "id": "cKCSE3BJakew"
      },
      "execution_count": 6,
      "outputs": []
    },
    {
      "cell_type": "code",
      "source": [],
      "metadata": {
        "id": "ggLDqOy9dEUR"
      },
      "execution_count": null,
      "outputs": []
    }
  ]
}